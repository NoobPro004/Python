{
 "cells": [
  {
   "cell_type": "code",
   "execution_count": null,
   "metadata": {},
   "outputs": [],
   "source": [
    "import pandas as pd\n",
    "import numpy as np"
   ]
  },
  {
   "cell_type": "code",
   "execution_count": null,
   "metadata": {},
   "outputs": [],
   "source": [
    "df = pd.read_csv(\"https://raw.githubusercontent.com/elakiricoder/Gender_Classification_Support_Vector_Machines_SVM/main/gender_classification_v7.csv\")\n",
    "df.head()"
   ]
  },
  {
   "cell_type": "code",
   "execution_count": null,
   "metadata": {},
   "outputs": [],
   "source": [
    "df.corr()['Male'].sort_values(ascending=False)"
   ]
  },
  {
   "cell_type": "code",
   "execution_count": null,
   "metadata": {},
   "outputs": [],
   "source": [
    "df.info()"
   ]
  },
  {
   "cell_type": "code",
   "execution_count": null,
   "metadata": {},
   "outputs": [],
   "source": [
    "x=df.iloc[:,:-1].values\n",
    "x"
   ]
  },
  {
   "cell_type": "code",
   "execution_count": null,
   "metadata": {},
   "outputs": [],
   "source": [
    "y=np.array(df['Male'])\n",
    "y"
   ]
  },
  {
   "cell_type": "code",
   "execution_count": null,
   "metadata": {},
   "outputs": [],
   "source": [
    "labels, unique=pd.factorize(y)\n",
    "print(labels)\n",
    "print(unique)"
   ]
  },
  {
   "cell_type": "code",
   "execution_count": null,
   "metadata": {},
   "outputs": [],
   "source": [
    "from sklearn.model_selection import train_test_split"
   ]
  },
  {
   "cell_type": "code",
   "execution_count": null,
   "metadata": {},
   "outputs": [],
   "source": [
    "x_train,x_test,y_train,y_test = train_test_split(x,y,test_size=0.40)"
   ]
  },
  {
   "cell_type": "code",
   "execution_count": null,
   "metadata": {},
   "outputs": [],
   "source": [
    "def takeSecond(ele):\n",
    "    return ele[1]"
   ]
  },
  {
   "cell_type": "code",
   "execution_count": null,
   "metadata": {},
   "outputs": [],
   "source": [
    "def KNNClassify(X_test,y_train=y_train,x_train=x_train,k=8):\n",
    "    min_dis=[]\n",
    "    for i, point in enumerate(x_train):\n",
    "        d1=(point[0]-X_test[0])**2\n",
    "        d2=(point[1]-X_test[1])**2\n",
    "        d3=(point[2]-X_test[2])**2\n",
    "        d4=(point[3]-X_test[3])**2\n",
    "        d5=(point[4]-X_test[4])**2\n",
    "        d6=(point[5]-X_test[5])**2\n",
    "        d7=(point[6]-X_test[6])**2\n",
    "        dist=np.sqrt(d1+d2+d3+d4+d5+d6+d7)\n",
    "        min_dis.append((i,dist))\n",
    "    min_dis.sort(key=takeSecond)\n",
    "    neighbours=min_dis[:k]\n",
    "    idx=[]\n",
    "    for ele in neighbours:\n",
    "        idx.append(ele[0])\n",
    "    \n",
    "    output=y_train[idx]\n",
    "\n",
    "    values, count=np.unique(output,return_counts=True)\n",
    "    max_idx=np.argmax(count)\n",
    "    return values[max_idx]"
   ]
  },
  {
   "cell_type": "code",
   "execution_count": null,
   "metadata": {},
   "outputs": [],
   "source": [
    "predictions = list(map(KNNClassify,x_test))"
   ]
  },
  {
   "cell_type": "code",
   "execution_count": null,
   "metadata": {},
   "outputs": [],
   "source": [
    "def accuracy(pred, y_test):\n",
    "    count=0\n",
    "    for i in range(len(pred)):\n",
    "        if(pred[i]==y_test[i]):\n",
    "            count=count+1\n",
    "\n",
    "    print(\"Accuracy is \",(count/len(pred))*100,\"%\") "
   ]
  },
  {
   "cell_type": "code",
   "execution_count": null,
   "metadata": {},
   "outputs": [],
   "source": [
    "accuracy(predictions,y_test)"
   ]
  },
  {
   "cell_type": "code",
   "execution_count": null,
   "metadata": {},
   "outputs": [],
   "source": []
  },
  {
   "cell_type": "code",
   "execution_count": null,
   "metadata": {},
   "outputs": [],
   "source": []
  }
 ],
 "metadata": {
  "kernelspec": {
   "display_name": "Python 3",
   "language": "python",
   "name": "python3"
  },
  "language_info": {
   "codemirror_mode": {
    "name": "ipython",
    "version": 3
   },
   "file_extension": ".py",
   "mimetype": "text/x-python",
   "name": "python",
   "nbconvert_exporter": "python",
   "pygments_lexer": "ipython3",
   "version": "3.10.7"
  },
  "orig_nbformat": 4,
  "vscode": {
   "interpreter": {
    "hash": "916dbcbb3f70747c44a77c7bcd40155683ae19c65e1c03b4aa3499c5328201f1"
   }
  }
 },
 "nbformat": 4,
 "nbformat_minor": 2
}
