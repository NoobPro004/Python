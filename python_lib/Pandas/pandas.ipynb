{
 "cells": [
  {
   "cell_type": "code",
   "execution_count": 1,
   "metadata": {},
   "outputs": [],
   "source": [
    "import pandas as pd"
   ]
  },
  {
   "cell_type": "code",
   "execution_count": 2,
   "metadata": {},
   "outputs": [
    {
     "name": "stdout",
     "output_type": "stream",
     "text": [
      "0    1\n",
      "1    2\n",
      "2    3\n",
      "3    4\n",
      "4    5\n",
      "5    6\n",
      "dtype: int64\n"
     ]
    }
   ],
   "source": [
    "ar=[1,2,3,4,5,6]\n",
    "series=pd.Series(ar)\n",
    "print(series)"
   ]
  },
  {
   "cell_type": "code",
   "execution_count": 3,
   "metadata": {},
   "outputs": [
    {
     "name": "stdout",
     "output_type": "stream",
     "text": [
      "a    1\n",
      "b    2\n",
      "c    3\n",
      "d    4\n",
      "e    5\n",
      "f    6\n",
      "dtype: int64\n"
     ]
    }
   ],
   "source": [
    "s=pd.Series(ar,index=['a','b','c','d','e','f'])\n",
    "print(s)"
   ]
  },
  {
   "cell_type": "code",
   "execution_count": 4,
   "metadata": {},
   "outputs": [
    {
     "name": "stdout",
     "output_type": "stream",
     "text": [
      "1    2\n",
      "2    3\n",
      "3    4\n",
      "dtype: int64\n"
     ]
    }
   ],
   "source": [
    "print(series.iloc[1:4])"
   ]
  },
  {
   "cell_type": "code",
   "execution_count": 5,
   "metadata": {},
   "outputs": [
    {
     "name": "stdout",
     "output_type": "stream",
     "text": [
      "2    3\n",
      "3    4\n",
      "4    5\n",
      "5    6\n",
      "dtype: int64\n"
     ]
    }
   ],
   "source": [
    "print(series.loc[2:6])"
   ]
  },
  {
   "cell_type": "code",
   "execution_count": 6,
   "metadata": {},
   "outputs": [
    {
     "name": "stdout",
     "output_type": "stream",
     "text": [
      "   0  1  2  3  4\n",
      "a  1  2  3  4  5\n",
      "b  1  2  3  4  5\n",
      "c  1  2  3  4  5\n"
     ]
    }
   ],
   "source": [
    "df=pd.DataFrame([[1,2,3,4,5],[1,2,3,4,5],[1,2,3,4,5]],['a','b','c'])\n",
    "print(df)"
   ]
  },
  {
   "cell_type": "code",
   "execution_count": 7,
   "metadata": {},
   "outputs": [
    {
     "name": "stdout",
     "output_type": "stream",
     "text": [
      "   d  e  f  g  h\n",
      "a  1  2  3  4  5\n",
      "b  1  2  3  4  5\n",
      "c  1  2  3  4  5\n"
     ]
    }
   ],
   "source": [
    "df=pd.DataFrame([[1,2,3,4,5],[1,2,3,4,5],[1,2,3,4,5]],['a','b','c'],['d','e','f','g','h'])\n",
    "print(df)"
   ]
  },
  {
   "cell_type": "code",
   "execution_count": 8,
   "metadata": {},
   "outputs": [
    {
     "name": "stdout",
     "output_type": "stream",
     "text": [
      "    Name  Data\n",
      "0    pep  2018\n",
      "1  batch  2019\n"
     ]
    }
   ],
   "source": [
    "dict={'Name':['pep','batch'],'Data':[2018,2019]}\n",
    "dictDF=pd.DataFrame(dict)\n",
    "print(dictDF)"
   ]
  },
  {
   "cell_type": "code",
   "execution_count": 9,
   "metadata": {},
   "outputs": [
    {
     "name": "stdout",
     "output_type": "stream",
     "text": [
      "      a   b     c\n",
      "0  10.0  20   NaN\n",
      "1   NaN  10  30.0\n",
      "2  10.0  20   NaN\n"
     ]
    }
   ],
   "source": [
    "dict_null=pd.DataFrame([{'a':10,'b':20},{'b':10,'c':30},{'a':30,'b':20,'a':10}])\n",
    "print(dict_null)"
   ]
  },
  {
   "cell_type": "code",
   "execution_count": 10,
   "metadata": {},
   "outputs": [
    {
     "name": "stdout",
     "output_type": "stream",
     "text": [
      "<class 'pandas.core.frame.DataFrame'>\n",
      "RangeIndex: 3 entries, 0 to 2\n",
      "Data columns (total 3 columns):\n",
      " #   Column  Non-Null Count  Dtype  \n",
      "---  ------  --------------  -----  \n",
      " 0   a       2 non-null      float64\n",
      " 1   b       3 non-null      int64  \n",
      " 2   c       1 non-null      float64\n",
      "dtypes: float64(2), int64(1)\n",
      "memory usage: 200.0 bytes\n",
      "None\n"
     ]
    }
   ],
   "source": [
    "print(dict_null.info())"
   ]
  },
  {
   "cell_type": "code",
   "execution_count": 11,
   "metadata": {},
   "outputs": [
    {
     "name": "stdout",
     "output_type": "stream",
     "text": [
      "      a   b     c\n",
      "0  10.0  20   0.0\n",
      "1   0.0  10  30.0\n",
      "2  10.0  20   0.0\n"
     ]
    }
   ],
   "source": [
    "print(dict_null.fillna(0))"
   ]
  },
  {
   "cell_type": "code",
   "execution_count": 12,
   "metadata": {},
   "outputs": [
    {
     "name": "stdout",
     "output_type": "stream",
     "text": [
      "16.666666666666668\n"
     ]
    }
   ],
   "source": [
    "print(dict_null['b'].mean())"
   ]
  },
  {
   "cell_type": "code",
   "execution_count": 14,
   "metadata": {},
   "outputs": [
    {
     "name": "stdout",
     "output_type": "stream",
     "text": [
      "         SNo ObservationDate Province/State  Country/Region  \\\n",
      "0          1      01/22/2020          Anhui  Mainland China   \n",
      "1          2      01/22/2020        Beijing  Mainland China   \n",
      "2          3      01/22/2020      Chongqing  Mainland China   \n",
      "3          4      01/22/2020         Fujian  Mainland China   \n",
      "4          5      01/22/2020          Gansu  Mainland China   \n",
      "...      ...             ...            ...             ...   \n",
      "26708  26709      05/19/2020        Wyoming              US   \n",
      "26709  26710      05/19/2020       Xinjiang  Mainland China   \n",
      "26710  26711      05/19/2020          Yukon          Canada   \n",
      "26711  26712      05/19/2020         Yunnan  Mainland China   \n",
      "26712  26713      05/19/2020       Zhejiang  Mainland China   \n",
      "\n",
      "               Last Update  Confirmed  Deaths  Recovered  \n",
      "0          1/22/2020 17:00        1.0     0.0        0.0  \n",
      "1          1/22/2020 17:00       14.0     0.0        0.0  \n",
      "2          1/22/2020 17:00        6.0     0.0        0.0  \n",
      "3          1/22/2020 17:00        1.0     0.0        0.0  \n",
      "4          1/22/2020 17:00        0.0     0.0        0.0  \n",
      "...                    ...        ...     ...        ...  \n",
      "26708  2020-05-20 02:32:19      776.0    10.0        0.0  \n",
      "26709  2020-05-20 02:32:19       76.0     3.0       73.0  \n",
      "26710  2020-05-20 02:32:19       11.0     0.0       11.0  \n",
      "26711  2020-05-20 02:32:19      185.0     2.0      183.0  \n",
      "26712  2020-05-20 02:32:19     1268.0     1.0     1267.0  \n",
      "\n",
      "[26713 rows x 8 columns]\n"
     ]
    }
   ],
   "source": [
    "df=pd.read_csv(\"https://raw.githubusercontent.com/neylsoncrepalde/projeto_eda_covid/master/covid_19_data.csv\")\n",
    "print(df)"
   ]
  },
  {
   "cell_type": "code",
   "execution_count": 15,
   "metadata": {},
   "outputs": [
    {
     "name": "stdout",
     "output_type": "stream",
     "text": [
      "<class 'pandas.core.frame.DataFrame'>\n",
      "RangeIndex: 26713 entries, 0 to 26712\n",
      "Data columns (total 8 columns):\n",
      " #   Column           Non-Null Count  Dtype  \n",
      "---  ------           --------------  -----  \n",
      " 0   SNo              26713 non-null  int64  \n",
      " 1   ObservationDate  26713 non-null  object \n",
      " 2   Province/State   12882 non-null  object \n",
      " 3   Country/Region   26713 non-null  object \n",
      " 4   Last Update      26713 non-null  object \n",
      " 5   Confirmed        26713 non-null  float64\n",
      " 6   Deaths           26713 non-null  float64\n",
      " 7   Recovered        26713 non-null  float64\n",
      "dtypes: float64(3), int64(1), object(4)\n",
      "memory usage: 1.6+ MB\n",
      "None\n"
     ]
    }
   ],
   "source": [
    "print(df.info())"
   ]
  },
  {
   "cell_type": "code",
   "execution_count": 16,
   "metadata": {},
   "outputs": [
    {
     "name": "stdout",
     "output_type": "stream",
     "text": [
      "                SNo  Confirmed    Deaths  Recovered\n",
      "SNo        1.000000   0.190694  0.143417   0.138484\n",
      "Confirmed  0.190694   1.000000  0.883926   0.536574\n",
      "Deaths     0.143417   0.883926  1.000000   0.452939\n",
      "Recovered  0.138484   0.536574  0.452939   1.000000\n"
     ]
    },
    {
     "name": "stderr",
     "output_type": "stream",
     "text": [
      "/tmp/ipykernel_9729/4212406737.py:1: FutureWarning: The default value of numeric_only in DataFrame.corr is deprecated. In a future version, it will default to False. Select only valid columns or specify the value of numeric_only to silence this warning.\n",
      "  print(df.corr())\n"
     ]
    }
   ],
   "source": [
    "print(df.corr())"
   ]
  },
  {
   "cell_type": "code",
   "execution_count": 20,
   "metadata": {},
   "outputs": [
    {
     "name": "stdout",
     "output_type": "stream",
     "text": [
      "<class 'pandas.core.frame.DataFrame'>\n",
      "RangeIndex: 26713 entries, 0 to 26712\n",
      "Data columns (total 8 columns):\n",
      " #   Column          Non-Null Count  Dtype  \n",
      "---  ------          --------------  -----  \n",
      " 0   SNo             26713 non-null  int64  \n",
      " 1   OD              26713 non-null  object \n",
      " 2   State           12882 non-null  object \n",
      " 3   Country/Region  26713 non-null  object \n",
      " 4   Last Update     26713 non-null  object \n",
      " 5   Confirmed       26713 non-null  float64\n",
      " 6   Deaths          26713 non-null  float64\n",
      " 7   Recovered       26713 non-null  float64\n",
      "dtypes: float64(3), int64(1), object(4)\n",
      "memory usage: 1.6+ MB\n",
      "None\n"
     ]
    }
   ],
   "source": [
    "df=df.rename(columns={'ObservationDate':'OD','Province/State':'State'})\n",
    "print(df.info())"
   ]
  },
  {
   "cell_type": "code",
   "execution_count": 22,
   "metadata": {},
   "outputs": [
    {
     "data": {
      "text/html": [
       "<div>\n",
       "<style scoped>\n",
       "    .dataframe tbody tr th:only-of-type {\n",
       "        vertical-align: middle;\n",
       "    }\n",
       "\n",
       "    .dataframe tbody tr th {\n",
       "        vertical-align: top;\n",
       "    }\n",
       "\n",
       "    .dataframe thead th {\n",
       "        text-align: right;\n",
       "    }\n",
       "</style>\n",
       "<table border=\"1\" class=\"dataframe\">\n",
       "  <thead>\n",
       "    <tr style=\"text-align: right;\">\n",
       "      <th></th>\n",
       "      <th>SNo</th>\n",
       "      <th>OD</th>\n",
       "      <th>State</th>\n",
       "      <th>Country/Region</th>\n",
       "      <th>Last Update</th>\n",
       "      <th>Confirmed</th>\n",
       "      <th>Deaths</th>\n",
       "      <th>Recovered</th>\n",
       "    </tr>\n",
       "  </thead>\n",
       "  <tbody>\n",
       "    <tr>\n",
       "      <th>0</th>\n",
       "      <td>1</td>\n",
       "      <td>01/22/2020</td>\n",
       "      <td>Anhui</td>\n",
       "      <td>Mainland China</td>\n",
       "      <td>1/22/2020 17:00</td>\n",
       "      <td>1.0</td>\n",
       "      <td>0.0</td>\n",
       "      <td>0.0</td>\n",
       "    </tr>\n",
       "    <tr>\n",
       "      <th>1</th>\n",
       "      <td>2</td>\n",
       "      <td>01/22/2020</td>\n",
       "      <td>Beijing</td>\n",
       "      <td>Mainland China</td>\n",
       "      <td>1/22/2020 17:00</td>\n",
       "      <td>14.0</td>\n",
       "      <td>0.0</td>\n",
       "      <td>0.0</td>\n",
       "    </tr>\n",
       "    <tr>\n",
       "      <th>2</th>\n",
       "      <td>3</td>\n",
       "      <td>01/22/2020</td>\n",
       "      <td>Chongqing</td>\n",
       "      <td>Mainland China</td>\n",
       "      <td>1/22/2020 17:00</td>\n",
       "      <td>6.0</td>\n",
       "      <td>0.0</td>\n",
       "      <td>0.0</td>\n",
       "    </tr>\n",
       "    <tr>\n",
       "      <th>3</th>\n",
       "      <td>4</td>\n",
       "      <td>01/22/2020</td>\n",
       "      <td>Fujian</td>\n",
       "      <td>Mainland China</td>\n",
       "      <td>1/22/2020 17:00</td>\n",
       "      <td>1.0</td>\n",
       "      <td>0.0</td>\n",
       "      <td>0.0</td>\n",
       "    </tr>\n",
       "    <tr>\n",
       "      <th>4</th>\n",
       "      <td>5</td>\n",
       "      <td>01/22/2020</td>\n",
       "      <td>Gansu</td>\n",
       "      <td>Mainland China</td>\n",
       "      <td>1/22/2020 17:00</td>\n",
       "      <td>0.0</td>\n",
       "      <td>0.0</td>\n",
       "      <td>0.0</td>\n",
       "    </tr>\n",
       "  </tbody>\n",
       "</table>\n",
       "</div>"
      ],
      "text/plain": [
       "   SNo          OD      State  Country/Region      Last Update  Confirmed  \\\n",
       "0    1  01/22/2020      Anhui  Mainland China  1/22/2020 17:00        1.0   \n",
       "1    2  01/22/2020    Beijing  Mainland China  1/22/2020 17:00       14.0   \n",
       "2    3  01/22/2020  Chongqing  Mainland China  1/22/2020 17:00        6.0   \n",
       "3    4  01/22/2020     Fujian  Mainland China  1/22/2020 17:00        1.0   \n",
       "4    5  01/22/2020      Gansu  Mainland China  1/22/2020 17:00        0.0   \n",
       "\n",
       "   Deaths  Recovered  \n",
       "0     0.0        0.0  \n",
       "1     0.0        0.0  \n",
       "2     0.0        0.0  \n",
       "3     0.0        0.0  \n",
       "4     0.0        0.0  "
      ]
     },
     "execution_count": 22,
     "metadata": {},
     "output_type": "execute_result"
    }
   ],
   "source": [
    "df.head()"
   ]
  },
  {
   "cell_type": "code",
   "execution_count": 42,
   "metadata": {},
   "outputs": [
    {
     "name": "stdout",
     "output_type": "stream",
     "text": [
      "                     Country/Region   Deaths  Confirmed  Recovered\n",
      "0                        Azerbaijan      0.0        1.0        0.0\n",
      "1                   ('St. Martin',)      0.0        2.0        0.0\n",
      "2                       Afghanistan   3211.0   115615.0    13641.0\n",
      "3                           Albania   1408.0    34319.0    20212.0\n",
      "4                           Algeria  19089.0   183263.0    76184.0\n",
      "..                              ...      ...        ...        ...\n",
      "218                  Western Sahara      0.0      256.0      144.0\n",
      "219                           Yemen    190.0     1190.0       30.0\n",
      "220                          Zambia    166.0     8987.0     3102.0\n",
      "221                        Zimbabwe    171.0     1386.0      226.0\n",
      "222  occupied Palestinian territory      0.0       25.0        0.0\n",
      "\n",
      "[223 rows x 4 columns]\n"
     ]
    }
   ],
   "source": [
    "co=df.groupby(['Country/Region'])[['Deaths','Confirmed','Recovered']].sum().reset_index()\n",
    "print(co)"
   ]
  },
  {
   "cell_type": "code",
   "execution_count": 43,
   "metadata": {},
   "outputs": [],
   "source": [
    "df['OD']=pd.to_datetime(df['OD'])"
   ]
  },
  {
   "cell_type": "code",
   "execution_count": 45,
   "metadata": {},
   "outputs": [
    {
     "name": "stdout",
     "output_type": "stream",
     "text": [
      "                       Country/Region         OD  Deaths  Confirmed  Recovered\n",
      "0                          Azerbaijan 2020-02-28     0.0        1.0        0.0\n",
      "1                     ('St. Martin',) 2020-03-10     0.0        2.0        0.0\n",
      "2                         Afghanistan 2020-02-24     0.0        1.0        0.0\n",
      "3                         Afghanistan 2020-02-25     0.0        1.0        0.0\n",
      "4                         Afghanistan 2020-02-26     0.0        1.0        0.0\n",
      "...                               ...        ...     ...        ...        ...\n",
      "14696  occupied Palestinian territory 2020-03-12     0.0        0.0        0.0\n",
      "14697  occupied Palestinian territory 2020-03-14     0.0        0.0        0.0\n",
      "14698  occupied Palestinian territory 2020-03-15     0.0        0.0        0.0\n",
      "14699  occupied Palestinian territory 2020-03-16     0.0        0.0        0.0\n",
      "14700  occupied Palestinian territory 2020-03-17     0.0        0.0        0.0\n",
      "\n",
      "[14701 rows x 5 columns]\n"
     ]
    }
   ],
   "source": [
    "dc=df.groupby(['Country/Region','OD'])[['Deaths','Confirmed','Recovered']].sum().reset_index()\n",
    "print(dc)"
   ]
  },
  {
   "cell_type": "code",
   "execution_count": 47,
   "metadata": {},
   "outputs": [
    {
     "data": {
      "text/plain": [
       "<AxesSubplot: xlabel='Confirmed', ylabel='Deaths'>"
      ]
     },
     "execution_count": 47,
     "metadata": {},
     "output_type": "execute_result"
    },
    {
     "data": {
      "image/png": "[encoded data removed]",
      "text/plain": [
       "<Figure size 640x480 with 1 Axes>"
      ]
     },
     "metadata": {},
     "output_type": "display_data"
    }
   ],
   "source": [
    "df.plot.scatter(x='Confirmed',y='Deaths')"
   ]
  }
 ],
 "metadata": {
  "kernelspec": {
   "display_name": "Python 3",
   "language": "python",
   "name": "python3"
  },
  "language_info": {
   "codemirror_mode": {
    "name": "ipython",
    "version": 3
   },
   "file_extension": ".py",
   "mimetype": "text/x-python",
   "name": "python",
   "nbconvert_exporter": "python",
   "pygments_lexer": "ipython3",
   "version": "3.10.7"
  },
  "orig_nbformat": 4,
  "vscode": {
   "interpreter": {
    "hash": "916dbcbb3f70747c44a77c7bcd40155683ae19c65e1c03b4aa3499c5328201f1"
   }
  }
 },
 "nbformat": 4,
 "nbformat_minor": 2
}
